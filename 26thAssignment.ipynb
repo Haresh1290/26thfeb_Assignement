{
 "cells": [
  {
   "cell_type": "code",
   "execution_count": 38,
   "id": "c7342fc6-89ec-4d60-97f1-3befe2d3f05b",
   "metadata": {},
   "outputs": [
    {
     "data": {
      "text/plain": [
       "array(['1', '2', '3', '4', '5'], dtype='<U1')"
      ]
     },
     "execution_count": 38,
     "metadata": {},
     "output_type": "execute_result"
    }
   ],
   "source": [
    "#Problem_1\n",
    "import numpy as np\n",
    "\n",
    "# Array: An array is a vector containing homogeneous elements i.e. belonging to the same data type. Elements are allocated with \n",
    "# contiguous memory locations. Typically the size of an array is fixed. Insertion and Deletion costs high as compare to List however \n",
    "# indexing is fast in the Arrays due to contiguous memory allocation.\n",
    "\n",
    "list_ = [ '1' , '2',  '3' , '4' , '5' ]\n",
    "array_list = np.array(list_)\n",
    "array_list"
   ]
  },
  {
   "cell_type": "code",
   "execution_count": 42,
   "id": "aa6e46c8-29b1-45ed-ae3e-d0300bb76357",
   "metadata": {},
   "outputs": [
    {
     "name": "stdout",
     "output_type": "stream",
     "text": [
      "['1', '2', '3', '4', '5']\n"
     ]
    }
   ],
   "source": [
    "# List: A list in Python is a collection of items which can contain elements of multiple data types, which may be either numeric, \n",
    "# character logical values, etc. It is an ordered collection supporting negative indexing. A list can be created using [] containing\n",
    "# data values. Contents of lists can be easily merged and copied using python’s inbuilt functions. \n",
    "list_= [ '1' , '2',  '3' , '4' , '5' ]\n",
    "print(list_)\n"
   ]
  },
  {
   "cell_type": "code",
   "execution_count": 27,
   "id": "3a6c130e-f424-4b54-b4bc-7bf60274b90a",
   "metadata": {},
   "outputs": [
    {
     "data": {
      "text/plain": [
       "list"
      ]
     },
     "execution_count": 27,
     "metadata": {},
     "output_type": "execute_result"
    }
   ],
   "source": [
    "#Problem_2\n",
    "\n",
    "list_ = [ '1' , '2',  '3' , '4' , '5' ]\n",
    "np.array(list_)\n",
    "list_\n",
    "type(list_)\n"
   ]
  },
  {
   "cell_type": "code",
   "execution_count": 53,
   "id": "92388eff-259c-4de2-825d-c8b33ca82ccb",
   "metadata": {},
   "outputs": [
    {
     "name": "stdout",
     "output_type": "stream",
     "text": [
      "['1', '2', '3', '4', '5']\n"
     ]
    },
    {
     "data": {
      "text/plain": [
       "list"
      ]
     },
     "execution_count": 53,
     "metadata": {},
     "output_type": "execute_result"
    }
   ],
   "source": [
    "sample_list = [ '1' , '2',  '3' , '4' , '5' ]\n",
    "print(sample_list)\n",
    "type(sample_list)\n"
   ]
  },
  {
   "cell_type": "code",
   "execution_count": 32,
   "id": "524ffa5c-ad24-41f3-880c-9d4d09fa8766",
   "metadata": {},
   "outputs": [
    {
     "data": {
      "text/plain": [
       "dtype('int64')"
      ]
     },
     "execution_count": 32,
     "metadata": {},
     "output_type": "execute_result"
    }
   ],
   "source": [
    "#Problem_3\n",
    "list_ = [ '1' , '2',  '3' , '4' , '5' ]\n",
    "array_list = np.array(list_)\n",
    "list2 = array_list.astype(np.int64)\n",
    "list2.dtype"
   ]
  },
  {
   "cell_type": "code",
   "execution_count": 45,
   "id": "fa816796-deff-4c8b-8025-a86452ac041d",
   "metadata": {},
   "outputs": [
    {
     "name": "stdout",
     "output_type": "stream",
     "text": [
      "<class 'str'>\n",
      "<class 'str'>\n",
      "<class 'str'>\n",
      "<class 'str'>\n",
      "<class 'str'>\n"
     ]
    },
    {
     "data": {
      "text/plain": [
       "list"
      ]
     },
     "execution_count": 45,
     "metadata": {},
     "output_type": "execute_result"
    }
   ],
   "source": [
    "\n",
    "\n",
    "list_ = [ '1' , '2',  '3' , '4' , '5' ]\n",
    "for i in list_:\n",
    "    print(type(i))\n",
    "\n",
    "type(list_)\n"
   ]
  },
  {
   "cell_type": "code",
   "execution_count": 48,
   "id": "828853b4-bd61-4793-935e-8c5acb0dc781",
   "metadata": {},
   "outputs": [
    {
     "data": {
      "text/plain": [
       "array([[1, 2, 3],\n",
       "       [4, 5, 6]])"
      ]
     },
     "execution_count": 48,
     "metadata": {},
     "output_type": "execute_result"
    }
   ],
   "source": [
    "#Problem_4\n",
    "import numpy as np\n",
    "num_list = [ [ 1 , 2 , 3 ] , [ 4 , 5 , 6 ] ]\n",
    "num_array = np.array(num_list)\n",
    "num_array"
   ]
  },
  {
   "cell_type": "code",
   "execution_count": 49,
   "id": "9cc193a7-e167-46e6-8625-c62e23766724",
   "metadata": {},
   "outputs": [
    {
     "data": {
      "text/plain": [
       "(2, 3)"
      ]
     },
     "execution_count": 49,
     "metadata": {},
     "output_type": "execute_result"
    }
   ],
   "source": [
    "num_array.shape"
   ]
  },
  {
   "cell_type": "code",
   "execution_count": 50,
   "id": "71188f05-719b-45a5-98e8-f80e9e060e40",
   "metadata": {},
   "outputs": [
    {
     "data": {
      "text/plain": [
       "6"
      ]
     },
     "execution_count": 50,
     "metadata": {},
     "output_type": "execute_result"
    }
   ],
   "source": [
    "num_array.size"
   ]
  },
  {
   "cell_type": "code",
   "execution_count": 57,
   "id": "54003c84-e4ee-45b9-89cf-54732b64c66e",
   "metadata": {},
   "outputs": [
    {
     "data": {
      "text/plain": [
       "array([[0., 0., 0.],\n",
       "       [0., 0., 0.],\n",
       "       [0., 0., 0.]])"
      ]
     },
     "execution_count": 57,
     "metadata": {},
     "output_type": "execute_result"
    }
   ],
   "source": [
    "#Problem_5\n",
    "matrix = np.zeros((3,3))\n",
    "matrix"
   ]
  },
  {
   "cell_type": "code",
   "execution_count": 58,
   "id": "3f32a47f-a14e-45e3-aa8d-19f5075f74a7",
   "metadata": {},
   "outputs": [
    {
     "data": {
      "text/plain": [
       "(3, 3)"
      ]
     },
     "execution_count": 58,
     "metadata": {},
     "output_type": "execute_result"
    }
   ],
   "source": [
    "matrix.shape"
   ]
  },
  {
   "cell_type": "code",
   "execution_count": 59,
   "id": "d188f7d6-0aaa-4849-85ca-d5f9b8b5e259",
   "metadata": {},
   "outputs": [
    {
     "data": {
      "text/plain": [
       "9"
      ]
     },
     "execution_count": 59,
     "metadata": {},
     "output_type": "execute_result"
    }
   ],
   "source": [
    "matrix.size"
   ]
  },
  {
   "cell_type": "code",
   "execution_count": 62,
   "id": "70e76a3b-8101-4ccd-9436-12dd2c50790b",
   "metadata": {},
   "outputs": [
    {
     "data": {
      "text/plain": [
       "array([[1., 0., 0., 0., 0.],\n",
       "       [0., 1., 0., 0., 0.],\n",
       "       [0., 0., 1., 0., 0.],\n",
       "       [0., 0., 0., 1., 0.],\n",
       "       [0., 0., 0., 0., 1.]])"
      ]
     },
     "execution_count": 62,
     "metadata": {},
     "output_type": "execute_result"
    }
   ],
   "source": [
    "#Problem_6\n",
    "np.eye((5))"
   ]
  },
  {
   "cell_type": "code",
   "execution_count": null,
   "id": "68d72aaa-a292-4bb4-a0bd-34b7a147382e",
   "metadata": {},
   "outputs": [],
   "source": []
  }
 ],
 "metadata": {
  "kernelspec": {
   "display_name": "Python 3 (ipykernel)",
   "language": "python",
   "name": "python3"
  },
  "language_info": {
   "codemirror_mode": {
    "name": "ipython",
    "version": 3
   },
   "file_extension": ".py",
   "mimetype": "text/x-python",
   "name": "python",
   "nbconvert_exporter": "python",
   "pygments_lexer": "ipython3",
   "version": "3.10.8"
  }
 },
 "nbformat": 4,
 "nbformat_minor": 5
}
